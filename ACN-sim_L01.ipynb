{
 "cells": [
  {
   "cell_type": "markdown",
   "metadata": {},
   "source": [
    "# [ACN-Sim Tutorial: Lesson 1][acn-sim_1]\n",
    "\n",
    "## Running an Experiment\n",
    "\n",
    "### by Zachary Lee\n",
    "### Last updated: 03/19/2019\n",
    "\n",
    "In this first lesson we will learn how to setup and run a simulation using a built-in scheduling algorithm. After running the simulation we will learn how to use the analysis subpackage to analyze the results of the simulation.\n",
    "\n",
    "[acn-sim_1]: https://acnportal.readthedocs.io/en/latest/tutorials/acnsim/lesson1.html#ACN-Sim-Tutorial:-Lesson-1"
   ]
  },
  {
   "cell_type": "code",
   "execution_count": 1,
   "metadata": {},
   "outputs": [],
   "source": [
    "import pytz\n",
    "import os\n",
    "\n",
    "from datetime import datetime\n",
    "\n",
    "import matplotlib.pyplot as plt\n",
    "\n",
    "from acnportal import acnsim\n",
    "from acnportal import algorithms"
   ]
  },
  {
   "cell_type": "markdown",
   "metadata": {},
   "source": [
    "## [Experiment Parameters][acn-sim_1-exp_par]\n",
    "\n",
    "Next we need to define some parameters of the experiment. We define these at the begining of the file so they can be used consistently when setting up the simulation.\n",
    "\n",
    "[acn-sim_1-exp_par]: https://acnportal.readthedocs.io/en/latest/tutorials/acnsim/lesson1.html#Experiment-Parameters"
   ]
  },
  {
   "cell_type": "code",
   "execution_count": 2,
   "metadata": {},
   "outputs": [
    {
     "name": "stdout",
     "output_type": "stream",
     "text": [
      "Europe/Amsterdam\n"
     ]
    }
   ],
   "source": [
    "# find the Olson TimeZone Identifier for NL\n",
    "print(' '.join(pytz.country_timezones('NL')))"
   ]
  },
  {
   "cell_type": "code",
   "execution_count": 3,
   "metadata": {},
   "outputs": [],
   "source": [
    "# Timezone of the ACN we are using.\n",
    "timezone = pytz.timezone('Europe/Amsterdam')\n",
    "\n",
    "# Start and End times are used when collecting data.\n",
    "start = timezone.localize(datetime(2018, 9, 5))\n",
    "end = timezone.localize(datetime(2018, 9, 6))\n",
    "\n",
    "# How long each time discrete time interval in the simulation should be.\n",
    "period = 5  # minutes\n",
    "\n",
    "# Voltage of the network.\n",
    "voltage = 220  # volts\n",
    "\n",
    "# Default maximum charging rate for each EV battery.\n",
    "default_battery_power = 32 * voltage / 1000 # kW\n",
    "\n",
    "# Identifier of the site where data will be gathered.\n",
    "site = 'caltech'"
   ]
  },
  {
   "cell_type": "markdown",
   "metadata": {},
   "source": [
    "## [Network][acn-sim_1-network]\n",
    "\n",
    "An important part of any simulation is the ChargingNetwork on which it runs. The ChargingNetwork is a description of the physical system and contains both the set of EVSEs which make up the network as well as a constraint_matrix which represents the electrical infrastructure of the network. You can manually configure this network using the register_evse() and add_constraint() methods in ChargingNetwork or you can use a predefined network available in the sites module. \n",
    "\n",
    "In this case we use the predefined CaltechACN network.\n",
    "\n",
    "[acn-sim_1-network]: https://acnportal.readthedocs.io/en/latest/tutorials/acnsim/lesson1.html#Network"
   ]
  },
  {
   "cell_type": "code",
   "execution_count": 4,
   "metadata": {},
   "outputs": [],
   "source": [
    "# For this experiment we use the predefined CaltechACN network.\n",
    "cn = acnsim.sites.caltech_acn(basic_evse=True, voltage=voltage)"
   ]
  },
  {
   "cell_type": "markdown",
   "metadata": {},
   "source": [
    "## [Events][acn-sim_1-events]\n",
    "\n",
    "Events are what drive action in the simulator. Events are stored in an EventQueue. This queue can be built manually by creating an Event object and using the add_event() or add_events() methods, or can be generated automatically.\n",
    "\n",
    "In this case we will use acndata_events.generate_events() which is part of the events subpackage. acnevents provides utilities for generating events from the Caltech Charging Dataset. These events are based on real behavior of users charging actual EVs, so it is extremely valuable for running realistic simulations. In order to access the API we need a token. For now we can use the demo token, but it is highly recomended that you register for your own free token at ev.caltech.edu.\n",
    "\n",
    "[acn-sim_1-events]: https://acnportal.readthedocs.io/en/latest/tutorials/acnsim/lesson1.html#Events"
   ]
  },
  {
   "cell_type": "code",
   "execution_count": 5,
   "metadata": {},
   "outputs": [],
   "source": [
    "API_KEY = os.getenv('API_KEY')\n",
    "\n",
    "events = acnsim.acndata_events.generate_events(API_KEY, site, start, end, period, voltage, default_battery_power)"
   ]
  },
  {
   "cell_type": "markdown",
   "metadata": {},
   "source": [
    "## [Scheduling Algorithm][acn-sim_1-sched_alg]\n",
    "\n",
    "The primary purpose of acnportal is to evaluate scheduling algorithms for large-scale EV charging. We will discuss how develop your own custom algorithm in Lesson 2, for now we will use one of the builtin scheduling algorithms, UncontrolledCharging.\n",
    "\n",
    "[acn-sim_1-sched_alg]: https://acnportal.readthedocs.io/en/latest/tutorials/acnsim/lesson1.html#Scheduling-Algorithm"
   ]
  },
  {
   "cell_type": "code",
   "execution_count": 6,
   "metadata": {},
   "outputs": [],
   "source": [
    "sch = algorithms.UncontrolledCharging()"
   ]
  },
  {
   "cell_type": "markdown",
   "metadata": {},
   "source": [
    "## [Simulator][acn-sim_1-simulator]\n",
    "\n",
    "We next need to set up our simulation enviroment using the parts we have already defined. The Simulator constructor takes in a ChargingNetwork, Algorithm, and EventQueue. We also provide the start time of the simulation which all internal timestamps will be measured relative to. Finally we pass in the length of each period as well as a parameter called max_recomp. max_recomp controls how often the scheduling algorithm is called when no events occur. Here we have set max_recomp to 1, meaning the scheduling algorithm will be called every time step. If we had set it to 5, up to 5 time steps could occur before the scheduling algorithm was called. Note that the scheduling algorithm is always called when an event occurs. In this case, UncontrolledCharging only provides one charging rate, so it must be used with a max_recomp of 1.\n",
    "\n",
    "[acn-sim_1-simulator]: https://acnportal.readthedocs.io/en/latest/tutorials/acnsim/lesson1.html#Simulator"
   ]
  },
  {
   "cell_type": "code",
   "execution_count": 7,
   "metadata": {},
   "outputs": [],
   "source": [
    "sim = acnsim.Simulator(cn, sch, events, start, period=period, verbose=False)"
   ]
  },
  {
   "cell_type": "markdown",
   "metadata": {},
   "source": [
    "To execute the simulation we simply call the ```run()``` function."
   ]
  },
  {
   "cell_type": "code",
   "execution_count": 8,
   "metadata": {},
   "outputs": [
    {
     "name": "stderr",
     "output_type": "stream",
     "text": [
      "/home/floris/miniforge3/envs/env_acn/lib/python3.8/site-packages/acnportal/acnsim/simulator.py:277: UserWarning: Invalid schedule provided at iteration 192. Max violation is 15.999989999999997 A on AV Pod at time index 0.\n",
      "  warnings.warn(\n",
      "/home/floris/miniforge3/envs/env_acn/lib/python3.8/site-packages/acnportal/acnsim/simulator.py:277: UserWarning: Invalid schedule provided at iteration 193. Max violation is 15.999989999999997 A on AV Pod at time index 0.\n",
      "  warnings.warn(\n",
      "/home/floris/miniforge3/envs/env_acn/lib/python3.8/site-packages/acnportal/acnsim/simulator.py:277: UserWarning: Invalid schedule provided at iteration 194. Max violation is 15.999989999999997 A on AV Pod at time index 0.\n",
      "  warnings.warn(\n",
      "/home/floris/miniforge3/envs/env_acn/lib/python3.8/site-packages/acnportal/acnsim/simulator.py:277: UserWarning: Invalid schedule provided at iteration 195. Max violation is 15.999989999999997 A on AV Pod at time index 0.\n",
      "  warnings.warn(\n",
      "/home/floris/miniforge3/envs/env_acn/lib/python3.8/site-packages/acnportal/acnsim/simulator.py:277: UserWarning: Invalid schedule provided at iteration 196. Max violation is 15.999989999999997 A on AV Pod at time index 0.\n",
      "  warnings.warn(\n",
      "/home/floris/miniforge3/envs/env_acn/lib/python3.8/site-packages/acnportal/acnsim/simulator.py:277: UserWarning: Invalid schedule provided at iteration 197. Max violation is 47.99999 A on AV Pod at time index 0.\n",
      "  warnings.warn(\n",
      "/home/floris/miniforge3/envs/env_acn/lib/python3.8/site-packages/acnportal/acnsim/simulator.py:277: UserWarning: Invalid schedule provided at iteration 198. Max violation is 47.99999 A on AV Pod at time index 0.\n",
      "  warnings.warn(\n",
      "/home/floris/miniforge3/envs/env_acn/lib/python3.8/site-packages/acnportal/acnsim/simulator.py:277: UserWarning: Invalid schedule provided at iteration 199. Max violation is 47.99999 A on AV Pod at time index 0.\n",
      "  warnings.warn(\n",
      "/home/floris/miniforge3/envs/env_acn/lib/python3.8/site-packages/acnportal/acnsim/simulator.py:277: UserWarning: Invalid schedule provided at iteration 200. Max violation is 15.999989999999997 A on AV Pod at time index 0.\n",
      "  warnings.warn(\n",
      "/home/floris/miniforge3/envs/env_acn/lib/python3.8/site-packages/acnportal/acnsim/simulator.py:277: UserWarning: Invalid schedule provided at iteration 201. Max violation is 47.99999 A on AV Pod at time index 0.\n",
      "  warnings.warn(\n",
      "/home/floris/miniforge3/envs/env_acn/lib/python3.8/site-packages/acnportal/acnsim/simulator.py:277: UserWarning: Invalid schedule provided at iteration 202. Max violation is 47.99999 A on AV Pod at time index 0.\n",
      "  warnings.warn(\n",
      "/home/floris/miniforge3/envs/env_acn/lib/python3.8/site-packages/acnportal/acnsim/simulator.py:277: UserWarning: Invalid schedule provided at iteration 203. Max violation is 79.99999 A on AV Pod at time index 0.\n",
      "  warnings.warn(\n",
      "/home/floris/miniforge3/envs/env_acn/lib/python3.8/site-packages/acnportal/acnsim/simulator.py:277: UserWarning: Invalid schedule provided at iteration 204. Max violation is 79.99999 A on AV Pod at time index 0.\n",
      "  warnings.warn(\n",
      "/home/floris/miniforge3/envs/env_acn/lib/python3.8/site-packages/acnportal/acnsim/simulator.py:277: UserWarning: Invalid schedule provided at iteration 205. Max violation is 79.99999 A on AV Pod at time index 0.\n",
      "  warnings.warn(\n",
      "/home/floris/miniforge3/envs/env_acn/lib/python3.8/site-packages/acnportal/acnsim/simulator.py:277: UserWarning: Invalid schedule provided at iteration 206. Max violation is 79.99999 A on AV Pod at time index 0.\n",
      "  warnings.warn(\n",
      "/home/floris/miniforge3/envs/env_acn/lib/python3.8/site-packages/acnportal/acnsim/simulator.py:277: UserWarning: Invalid schedule provided at iteration 207. Max violation is 79.99999 A on AV Pod at time index 0.\n",
      "  warnings.warn(\n",
      "/home/floris/miniforge3/envs/env_acn/lib/python3.8/site-packages/acnportal/acnsim/simulator.py:277: UserWarning: Invalid schedule provided at iteration 208. Max violation is 79.99999 A on AV Pod at time index 0.\n",
      "  warnings.warn(\n",
      "/home/floris/miniforge3/envs/env_acn/lib/python3.8/site-packages/acnportal/acnsim/simulator.py:277: UserWarning: Invalid schedule provided at iteration 209. Max violation is 79.99999 A on AV Pod at time index 0.\n",
      "  warnings.warn(\n",
      "/home/floris/miniforge3/envs/env_acn/lib/python3.8/site-packages/acnportal/acnsim/simulator.py:277: UserWarning: Invalid schedule provided at iteration 210. Max violation is 79.99999 A on CC Pod at time index 0.\n",
      "  warnings.warn(\n",
      "/home/floris/miniforge3/envs/env_acn/lib/python3.8/site-packages/acnportal/acnsim/simulator.py:277: UserWarning: Invalid schedule provided at iteration 211. Max violation is 79.99999 A on CC Pod at time index 0.\n",
      "  warnings.warn(\n",
      "/home/floris/miniforge3/envs/env_acn/lib/python3.8/site-packages/acnportal/acnsim/simulator.py:277: UserWarning: Invalid schedule provided at iteration 212. Max violation is 79.99999 A on CC Pod at time index 0.\n",
      "  warnings.warn(\n",
      "/home/floris/miniforge3/envs/env_acn/lib/python3.8/site-packages/acnportal/acnsim/simulator.py:277: UserWarning: Invalid schedule provided at iteration 213. Max violation is 111.99999 A on CC Pod at time index 0.\n",
      "  warnings.warn(\n",
      "/home/floris/miniforge3/envs/env_acn/lib/python3.8/site-packages/acnportal/acnsim/simulator.py:277: UserWarning: Invalid schedule provided at iteration 214. Max violation is 112.06009587279908 A on Secondary A at time index 0.\n",
      "  warnings.warn(\n",
      "/home/floris/miniforge3/envs/env_acn/lib/python3.8/site-packages/acnportal/acnsim/simulator.py:277: UserWarning: Invalid schedule provided at iteration 215. Max violation is 83.1893025913592 A on Secondary A at time index 0.\n",
      "  warnings.warn(\n",
      "/home/floris/miniforge3/envs/env_acn/lib/python3.8/site-packages/acnportal/acnsim/simulator.py:277: UserWarning: Invalid schedule provided at iteration 216. Max violation is 112.06009587279908 A on Secondary A at time index 0.\n",
      "  warnings.warn(\n",
      "/home/floris/miniforge3/envs/env_acn/lib/python3.8/site-packages/acnportal/acnsim/simulator.py:277: UserWarning: Invalid schedule provided at iteration 217. Max violation is 110.11980759427178 A on Secondary A at time index 0.\n",
      "  warnings.warn(\n",
      "/home/floris/miniforge3/envs/env_acn/lib/python3.8/site-packages/acnportal/acnsim/simulator.py:277: UserWarning: Invalid schedule provided at iteration 218. Max violation is 138.51257366605256 A on Secondary A at time index 0.\n",
      "  warnings.warn(\n",
      "/home/floris/miniforge3/envs/env_acn/lib/python3.8/site-packages/acnportal/acnsim/simulator.py:277: UserWarning: Invalid schedule provided at iteration 219. Max violation is 138.51257366605256 A on Secondary A at time index 0.\n",
      "  warnings.warn(\n",
      "/home/floris/miniforge3/envs/env_acn/lib/python3.8/site-packages/acnportal/acnsim/simulator.py:277: UserWarning: Invalid schedule provided at iteration 220. Max violation is 27.891530995727067 A on Secondary A at time index 0.\n",
      "  warnings.warn(\n",
      "/home/floris/miniforge3/envs/env_acn/lib/python3.8/site-packages/acnportal/acnsim/simulator.py:277: UserWarning: Invalid schedule provided at iteration 221. Max violation is 15.999989999999997 A on CC Pod at time index 0.\n",
      "  warnings.warn(\n",
      "/home/floris/miniforge3/envs/env_acn/lib/python3.8/site-packages/acnportal/acnsim/simulator.py:277: UserWarning: Invalid schedule provided at iteration 222. Max violation is 15.999989999999997 A on CC Pod at time index 0.\n",
      "  warnings.warn(\n",
      "/home/floris/miniforge3/envs/env_acn/lib/python3.8/site-packages/acnportal/acnsim/simulator.py:277: UserWarning: Invalid schedule provided at iteration 223. Max violation is 15.999989999999997 A on CC Pod at time index 0.\n",
      "  warnings.warn(\n",
      "/home/floris/miniforge3/envs/env_acn/lib/python3.8/site-packages/acnportal/acnsim/simulator.py:277: UserWarning: Invalid schedule provided at iteration 224. Max violation is 15.999989999999997 A on CC Pod at time index 0.\n",
      "  warnings.warn(\n",
      "/home/floris/miniforge3/envs/env_acn/lib/python3.8/site-packages/acnportal/acnsim/simulator.py:277: UserWarning: Invalid schedule provided at iteration 225. Max violation is 15.999989999999997 A on CC Pod at time index 0.\n",
      "  warnings.warn(\n",
      "/home/floris/miniforge3/envs/env_acn/lib/python3.8/site-packages/acnportal/acnsim/simulator.py:277: UserWarning: Invalid schedule provided at iteration 270. Max violation is 15.999989999999997 A on CC Pod at time index 0.\n",
      "  warnings.warn(\n"
     ]
    }
   ],
   "source": [
    "sim.run()"
   ]
  },
  {
   "cell_type": "markdown",
   "metadata": {},
   "source": [
    "## [Analysis][acn-sim_1-analysis]\n",
    "\n",
    "Once the simulator has been run, we can analyze the results. For this purpose acnsim offers a package called analysis. One thing we may be interested in is the proportion of total users’ energy demand that we were able to meet. To find this we can use the proportion_of_energy_delivered() method from the analysis subpackage. The only argument to this function is the Simulator object itself.\n",
    "\n",
    "[acn-sim_1-analysis]: https://acnportal.readthedocs.io/en/latest/tutorials/acnsim/lesson1.html#Analysis"
   ]
  },
  {
   "cell_type": "code",
   "execution_count": 9,
   "metadata": {},
   "outputs": [
    {
     "name": "stdout",
     "output_type": "stream",
     "text": [
      "Proportion of requested energy delivered: 0.9998668404675912\n"
     ]
    }
   ],
   "source": [
    "total_energy_prop = acnsim.proportion_of_energy_delivered(sim)\n",
    "print('Proportion of requested energy delivered: {0}'.format(total_energy_prop))"
   ]
  },
  {
   "cell_type": "markdown",
   "metadata": {},
   "source": [
    "We may also be interested in the peak demand of the system as this determines our big the root transformers and cables in our system must be as well as the demand charge we may have to pay. The Simulator has a built in property which keeps track of this peak usage called peak."
   ]
  },
  {
   "cell_type": "code",
   "execution_count": 10,
   "metadata": {},
   "outputs": [
    {
     "name": "stdout",
     "output_type": "stream",
     "text": [
      "Peak aggregate current: 704.0 A\n"
     ]
    }
   ],
   "source": [
    "print('Peak aggregate current: {0} A'.format(sim.peak))"
   ]
  },
  {
   "cell_type": "markdown",
   "metadata": {},
   "source": [
    "Finally, we can plot the output of our simulation. For now we will just plot total aggregate current draw:"
   ]
  },
  {
   "cell_type": "code",
   "execution_count": 11,
   "metadata": {},
   "outputs": [
    {
     "data": {
      "image/png": "[encoded data removed]",
      "text/plain": [
       "<Figure size 640x480 with 1 Axes>"
      ]
     },
     "metadata": {},
     "output_type": "display_data"
    }
   ],
   "source": [
    "# Plotting aggregate current\n",
    "agg_current = acnsim.aggregate_current(sim)\n",
    "plt.plot(agg_current)\n",
    "plt.xlabel('Time (periods)')\n",
    "plt.ylabel('Current (A)')\n",
    "plt.title('Total Aggregate Current')\n",
    "plt.show()"
   ]
  }
 ],
 "metadata": {
  "kernelspec": {
   "display_name": "Python 3",
   "language": "python",
   "name": "python3"
  },
  "language_info": {
   "codemirror_mode": {
    "name": "ipython",
    "version": 3
   },
   "file_extension": ".py",
   "mimetype": "text/x-python",
   "name": "python",
   "nbconvert_exporter": "python",
   "pygments_lexer": "ipython3",
   "version": "3.8.18"
  }
 },
 "nbformat": 4,
 "nbformat_minor": 2
}
